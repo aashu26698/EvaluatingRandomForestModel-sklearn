{
 "cells": [
  {
   "cell_type": "markdown",
   "metadata": {},
   "source": [
    "## DAB200 -- Lab 2\n",
    "\n",
    "In this lab, you will gain some experience in **denoising** a dataset in the context of a specific objective. \n",
    "\n",
    "**Overall Objective**: Create a model that predicts rent prices as well as possible for typical New York City apartments."
   ]
  },
  {
   "cell_type": "markdown",
   "metadata": {},
   "source": [
    "**Data set**: make sure you use the data assigned to your group!\n",
    "\n",
    "| Groups | Data set |\n",
    "| :-: | :-: |\n",
    "| 1-3 | rent_1.csv |\n",
    "| 4-6 | rent_2.csv |\n",
    "| 7-9 | rent_3.csv |\n",
    "| 10-12 | rent_4.csv |\n",
    "| 13-17 | rent_5.csv |\n",
    "\n",
    "**Important Notes:**\n",
    " - This lab is more open-ended so be prepared to think on your own, in a logical way, in order to solve the problem at hand\n",
    "     - You should be able to support any decision you make with logical evidence\n",
    " - The data looks like the data we have been using in class but it has other **surprises**\n",
    "     - Be sure to investigate the data in a way that allows you to discover all these surprises\n",
    " - Use [Chapter 5](https://mlbook.explained.ai/prep.html) of the textbook as a **guide**, except:\n",
    "     - you only need to use **random forest** models, so igonre the Lasso and GradientBoostingRegressor models mentione in 5.4;\n",
    "     - exclude Section 5.5; \n",
    " - Code submitted for this lab should be:\n",
    "     - error free\n",
    "         - to make sure this is the case, before submitting, close all Jupyter notebooks, exit Anaconda, reload the lab notebook and execute all cells\n",
    "     - final code\n",
    "         - this means that I don't want to see every piece of code you try as you work through this lab but only the final code; only the code that fulfills the objective\n",
    " - Use both the **out-of-bag score** and **R-squared** to evaluate models\n",
    "     - Read Section 5.2 carefully so that you use this method properly\n",
    "     - The oob score and R-squared that you provide should be the average of the 10 runs\n",
    " - Don't make assumptions!\n",
    "\n",
    "I have broken the lab down into 4 main parts. "
   ]
  },
  {
   "cell_type": "markdown",
   "metadata": {},
   "source": [
    "### Part 0\n",
    "\n",
    "Please provide the following information:\n",
    " - Group Number: 17 \n",
    " - Group Members: Aashutosh Sehgal (0780170), Saheb Singh Bhatia (0781209)\n",
    "\n",
    "     "
   ]
  },
  {
   "cell_type": "markdown",
   "metadata": {},
   "source": [
    "### Part 1 - Create and evaluate an initial model\n",
    "\n",
    "#### Code (15 marks)"
   ]
  },
  {
   "cell_type": "code",
   "execution_count": 1,
   "metadata": {},
   "outputs": [
    {
     "name": "stdout",
     "output_type": "stream",
     "text": [
      "<class 'pandas.core.frame.DataFrame'>\n",
      "RangeIndex: 20000 entries, 0 to 19999\n",
      "Data columns (total 16 columns):\n",
      " #   Column           Non-Null Count  Dtype  \n",
      "---  ------           --------------  -----  \n",
      " 0   Unnamed: 0       20000 non-null  int64  \n",
      " 1   bathrooms        20000 non-null  float64\n",
      " 2   bedrooms         20000 non-null  int64  \n",
      " 3   building_id      20000 non-null  object \n",
      " 4   created          20000 non-null  object \n",
      " 5   description      19367 non-null  object \n",
      " 6   display_address  19951 non-null  object \n",
      " 7   features         20000 non-null  object \n",
      " 8   latitude         20000 non-null  float64\n",
      " 9   longitude        20000 non-null  float64\n",
      " 10  manager_id       20000 non-null  object \n",
      " 11  photos           20000 non-null  object \n",
      " 12  price            20000 non-null  int64  \n",
      " 13  street_address   19997 non-null  object \n",
      " 14  interest_level   20000 non-null  object \n",
      " 15  num_desc_words   20000 non-null  int64  \n",
      "dtypes: float64(3), int64(4), object(9)\n",
      "memory usage: 2.4+ MB\n"
     ]
    }
   ],
   "source": [
    "import pandas as pd\n",
    "from sklearn.model_selection import train_test_split\n",
    "from sklearn.ensemble import RandomForestRegressor\n",
    "from sklearn.metrics import mean_absolute_error, r2_score\n",
    "import numpy as np\n",
    "pd.set_option('display.float_format', lambda x: '%.3f' % x)\n",
    "\n",
    "rent = pd.read_csv('rent_5.csv')\n",
    "rent.info()"
   ]
  },
  {
   "cell_type": "code",
   "execution_count": 2,
   "metadata": {},
   "outputs": [
    {
     "data": {
      "text/html": [
       "<div>\n",
       "<style scoped>\n",
       "    .dataframe tbody tr th:only-of-type {\n",
       "        vertical-align: middle;\n",
       "    }\n",
       "\n",
       "    .dataframe tbody tr th {\n",
       "        vertical-align: top;\n",
       "    }\n",
       "\n",
       "    .dataframe thead th {\n",
       "        text-align: right;\n",
       "    }\n",
       "</style>\n",
       "<table border=\"1\" class=\"dataframe\">\n",
       "  <thead>\n",
       "    <tr style=\"text-align: right;\">\n",
       "      <th></th>\n",
       "      <th>bathrooms</th>\n",
       "      <th>bedrooms</th>\n",
       "      <th>longitude</th>\n",
       "      <th>latitude</th>\n",
       "      <th>price</th>\n",
       "    </tr>\n",
       "  </thead>\n",
       "  <tbody>\n",
       "    <tr>\n",
       "      <th>0</th>\n",
       "      <td>1.000</td>\n",
       "      <td>2</td>\n",
       "      <td>-73.879</td>\n",
       "      <td>40.668</td>\n",
       "      <td>1475</td>\n",
       "    </tr>\n",
       "    <tr>\n",
       "      <th>1</th>\n",
       "      <td>1.000</td>\n",
       "      <td>2</td>\n",
       "      <td>-74.000</td>\n",
       "      <td>40.728</td>\n",
       "      <td>3800</td>\n",
       "    </tr>\n",
       "    <tr>\n",
       "      <th>2</th>\n",
       "      <td>1.000</td>\n",
       "      <td>1</td>\n",
       "      <td>-73.963</td>\n",
       "      <td>40.758</td>\n",
       "      <td>2850</td>\n",
       "    </tr>\n",
       "    <tr>\n",
       "      <th>3</th>\n",
       "      <td>1.000</td>\n",
       "      <td>3</td>\n",
       "      <td>-73.957</td>\n",
       "      <td>40.766</td>\n",
       "      <td>3600</td>\n",
       "    </tr>\n",
       "    <tr>\n",
       "      <th>4</th>\n",
       "      <td>1.000</td>\n",
       "      <td>2</td>\n",
       "      <td>-73.920</td>\n",
       "      <td>40.738</td>\n",
       "      <td>1995</td>\n",
       "    </tr>\n",
       "  </tbody>\n",
       "</table>\n",
       "</div>"
      ],
      "text/plain": [
       "   bathrooms  bedrooms  longitude  latitude  price\n",
       "0      1.000         2    -73.879    40.668   1475\n",
       "1      1.000         2    -74.000    40.728   3800\n",
       "2      1.000         1    -73.963    40.758   2850\n",
       "3      1.000         3    -73.957    40.766   3600\n",
       "4      1.000         2    -73.920    40.738   1995"
      ]
     },
     "execution_count": 2,
     "metadata": {},
     "output_type": "execute_result"
    }
   ],
   "source": [
    "rent_num = rent[['bathrooms', 'bedrooms', 'longitude', 'latitude', 'price']]\n",
    "rent_num.head(5)"
   ]
  },
  {
   "cell_type": "code",
   "execution_count": 3,
   "metadata": {},
   "outputs": [],
   "source": [
    "X = rent_num.drop('price', axis=1)\n",
    "y = rent_num['price']"
   ]
  },
  {
   "cell_type": "code",
   "execution_count": 4,
   "metadata": {},
   "outputs": [],
   "source": [
    "train_r2 = []\n",
    "val_r2 = []\n",
    "oob_scores = []\n",
    "\n",
    "for i in range(10):\n",
    "    X_train, X_val, y_train, y_val = train_test_split(X, y, test_size=0.2,random_state=123)\n",
    "    rf = RandomForestRegressor(n_estimators=100, n_jobs=-1, oob_score=True) \n",
    "    rf.fit(X_train, y_train)\n",
    "    train_preds = rf.predict(X_train)\n",
    "    val_preds = rf.predict(X_val)\n",
    "    train_r2.append(round(r2_score(y_train, train_preds), 4))\n",
    "    val_r2.append(round(r2_score(y_val, val_preds), 4))\n",
    "    oob_scores.append(rf.oob_score_)"
   ]
  },
  {
   "cell_type": "code",
   "execution_count": 5,
   "metadata": {},
   "outputs": [
    {
     "name": "stdout",
     "output_type": "stream",
     "text": [
      "Train r2 scores: \n",
      " [0.8895, 0.8285, 0.8498, 0.8026, 0.8329, 0.8564, 0.8476, 0.8239, 0.8724, 0.8281]\n",
      "\n",
      "Validation r2 scores: \n",
      " [-16.8404, -10.066, -13.5016, -7.9063, -10.533, -11.9582, -10.5113, -10.0943, -13.5271, -12.485]\n",
      "\n",
      "Out-of-bag scores: \n",
      " [-0.12759218837483077, -0.07184265063604856, 0.015196674951378886, -0.05633626921194068, -0.006385876197625429, 0.005818713130106179, -0.00247277428777104, -0.024569064226450665, -0.10268961424523337, -0.0803498133675613]\n"
     ]
    }
   ],
   "source": [
    "print(\"Train r2 scores: \\n\", train_r2)\n",
    "print(\"\")\n",
    "print(\"Validation r2 scores: \\n\", val_r2)\n",
    "print(\"\")\n",
    "print(\"Out-of-bag scores: \\n\", oob_scores)"
   ]
  },
  {
   "cell_type": "code",
   "execution_count": 6,
   "metadata": {},
   "outputs": [
    {
     "name": "stdout",
     "output_type": "stream",
     "text": [
      "Mean train r2:  0.84317\n",
      "Mean validation r2:  -11.742320000000001\n",
      "Mean oob score:  -0.04512228624659768\n"
     ]
    }
   ],
   "source": [
    "print(\"Mean train r2: \", np.mean(train_r2))\n",
    "print(\"Mean validation r2: \", np.mean(val_r2))\n",
    "print(\"Mean oob score: \", np.mean(oob_scores))"
   ]
  },
  {
   "cell_type": "markdown",
   "metadata": {},
   "source": [
    "#### Explanation (5 marks)\n",
    "\n",
    "Please provide an explanation and justification for the code submitted in **Part 1** in the context of the overall objective. \n",
    "\n",
    "Step 1: Importing all libraries and reading data from csv file. Using set_option() to restricting floating vales to only 3 decimal points. Using info() method to look at columns, their datatypes and NULL vales etc.\n",
    "\n",
    "Step 2: Keeping only the numerical fields from the data.\n",
    "\n",
    "Step 3: Splitting the dataset into training and testing. The random_state hyperparameter is used to keep the split similar each time and so that it does not affect r2 and oob scores.\n",
    "\n",
    "Step 4: Creating empty lists to append values from the model's r2 scores for testing and training data and the OOB Scores.\n",
    "\n",
    "Step 5: Printing the r2 scores for testing and training data and the OOB Scores.\n",
    "\n",
    "Step 6: Printing the mean r2 scores for testing and training data and the OOB Score."
   ]
  },
  {
   "cell_type": "markdown",
   "metadata": {},
   "source": [
    "### Part 2 - Denoise the data\n",
    "\n",
    "This section should include the code necessary to **denoise** the data, and it should include what is needed to identify inconsistencies, problems, errors, etc. in the data. \n",
    "\n",
    "#### Code (25 marks)"
   ]
  },
  {
   "cell_type": "code",
   "execution_count": 7,
   "metadata": {},
   "outputs": [
    {
     "name": "stdout",
     "output_type": "stream",
     "text": [
      "<class 'pandas.core.frame.DataFrame'>\n",
      "RangeIndex: 20000 entries, 0 to 19999\n",
      "Data columns (total 5 columns):\n",
      " #   Column     Non-Null Count  Dtype  \n",
      "---  ------     --------------  -----  \n",
      " 0   bathrooms  20000 non-null  float64\n",
      " 1   bedrooms   20000 non-null  int64  \n",
      " 2   longitude  20000 non-null  float64\n",
      " 3   latitude   20000 non-null  float64\n",
      " 4   price      20000 non-null  int64  \n",
      "dtypes: float64(3), int64(2)\n",
      "memory usage: 781.4 KB\n"
     ]
    }
   ],
   "source": [
    "rent_num.info()"
   ]
  },
  {
   "cell_type": "code",
   "execution_count": 8,
   "metadata": {},
   "outputs": [
    {
     "data": {
      "text/html": [
       "<div>\n",
       "<style scoped>\n",
       "    .dataframe tbody tr th:only-of-type {\n",
       "        vertical-align: middle;\n",
       "    }\n",
       "\n",
       "    .dataframe tbody tr th {\n",
       "        vertical-align: top;\n",
       "    }\n",
       "\n",
       "    .dataframe thead th {\n",
       "        text-align: right;\n",
       "    }\n",
       "</style>\n",
       "<table border=\"1\" class=\"dataframe\">\n",
       "  <thead>\n",
       "    <tr style=\"text-align: right;\">\n",
       "      <th></th>\n",
       "      <th>bathrooms</th>\n",
       "      <th>bedrooms</th>\n",
       "      <th>longitude</th>\n",
       "      <th>latitude</th>\n",
       "      <th>price</th>\n",
       "    </tr>\n",
       "  </thead>\n",
       "  <tbody>\n",
       "    <tr>\n",
       "      <th>count</th>\n",
       "      <td>20000.000</td>\n",
       "      <td>20000.000</td>\n",
       "      <td>20000.000</td>\n",
       "      <td>20000.000</td>\n",
       "      <td>20000.000</td>\n",
       "    </tr>\n",
       "    <tr>\n",
       "      <th>mean</th>\n",
       "      <td>1.214</td>\n",
       "      <td>1.545</td>\n",
       "      <td>-73.827</td>\n",
       "      <td>40.703</td>\n",
       "      <td>3733.582</td>\n",
       "    </tr>\n",
       "    <tr>\n",
       "      <th>std</th>\n",
       "      <td>0.501</td>\n",
       "      <td>1.114</td>\n",
       "      <td>6.682</td>\n",
       "      <td>1.802</td>\n",
       "      <td>8014.783</td>\n",
       "    </tr>\n",
       "    <tr>\n",
       "      <th>min</th>\n",
       "      <td>0.000</td>\n",
       "      <td>0.000</td>\n",
       "      <td>-124.015</td>\n",
       "      <td>-18.979</td>\n",
       "      <td>-18000.000</td>\n",
       "    </tr>\n",
       "    <tr>\n",
       "      <th>25%</th>\n",
       "      <td>1.000</td>\n",
       "      <td>1.000</td>\n",
       "      <td>-73.992</td>\n",
       "      <td>40.728</td>\n",
       "      <td>2500.000</td>\n",
       "    </tr>\n",
       "    <tr>\n",
       "      <th>50%</th>\n",
       "      <td>1.000</td>\n",
       "      <td>1.000</td>\n",
       "      <td>-73.978</td>\n",
       "      <td>40.752</td>\n",
       "      <td>3150.000</td>\n",
       "    </tr>\n",
       "    <tr>\n",
       "      <th>75%</th>\n",
       "      <td>1.000</td>\n",
       "      <td>2.000</td>\n",
       "      <td>-73.955</td>\n",
       "      <td>40.775</td>\n",
       "      <td>4134.000</td>\n",
       "    </tr>\n",
       "    <tr>\n",
       "      <th>max</th>\n",
       "      <td>6.000</td>\n",
       "      <td>7.000</td>\n",
       "      <td>158.395</td>\n",
       "      <td>49.343</td>\n",
       "      <td>1070000.000</td>\n",
       "    </tr>\n",
       "  </tbody>\n",
       "</table>\n",
       "</div>"
      ],
      "text/plain": [
       "       bathrooms  bedrooms  longitude  latitude       price\n",
       "count  20000.000 20000.000  20000.000 20000.000   20000.000\n",
       "mean       1.214     1.545    -73.827    40.703    3733.582\n",
       "std        0.501     1.114      6.682     1.802    8014.783\n",
       "min        0.000     0.000   -124.015   -18.979  -18000.000\n",
       "25%        1.000     1.000    -73.992    40.728    2500.000\n",
       "50%        1.000     1.000    -73.978    40.752    3150.000\n",
       "75%        1.000     2.000    -73.955    40.775    4134.000\n",
       "max        6.000     7.000    158.395    49.343 1070000.000"
      ]
     },
     "execution_count": 8,
     "metadata": {},
     "output_type": "execute_result"
    }
   ],
   "source": [
    "rent_num.describe()"
   ]
  },
  {
   "cell_type": "markdown",
   "metadata": {},
   "source": [
    "#### Finding the inconsistencies, errors, noise."
   ]
  },
  {
   "cell_type": "code",
   "execution_count": 9,
   "metadata": {},
   "outputs": [
    {
     "data": {
      "text/html": [
       "<div>\n",
       "<style scoped>\n",
       "    .dataframe tbody tr th:only-of-type {\n",
       "        vertical-align: middle;\n",
       "    }\n",
       "\n",
       "    .dataframe tbody tr th {\n",
       "        vertical-align: top;\n",
       "    }\n",
       "\n",
       "    .dataframe thead th {\n",
       "        text-align: right;\n",
       "    }\n",
       "</style>\n",
       "<table border=\"1\" class=\"dataframe\">\n",
       "  <thead>\n",
       "    <tr style=\"text-align: right;\">\n",
       "      <th></th>\n",
       "      <th>price</th>\n",
       "    </tr>\n",
       "  </thead>\n",
       "  <tbody>\n",
       "    <tr>\n",
       "      <th>5269</th>\n",
       "      <td>1070000</td>\n",
       "    </tr>\n",
       "    <tr>\n",
       "      <th>6537</th>\n",
       "      <td>135000</td>\n",
       "    </tr>\n",
       "    <tr>\n",
       "      <th>19120</th>\n",
       "      <td>111111</td>\n",
       "    </tr>\n",
       "    <tr>\n",
       "      <th>6881</th>\n",
       "      <td>85000</td>\n",
       "    </tr>\n",
       "    <tr>\n",
       "      <th>8709</th>\n",
       "      <td>80000</td>\n",
       "    </tr>\n",
       "    <tr>\n",
       "      <th>13405</th>\n",
       "      <td>50614</td>\n",
       "    </tr>\n",
       "    <tr>\n",
       "      <th>17123</th>\n",
       "      <td>50000</td>\n",
       "    </tr>\n",
       "    <tr>\n",
       "      <th>2060</th>\n",
       "      <td>50000</td>\n",
       "    </tr>\n",
       "    <tr>\n",
       "      <th>2572</th>\n",
       "      <td>48500</td>\n",
       "    </tr>\n",
       "    <tr>\n",
       "      <th>6801</th>\n",
       "      <td>39995</td>\n",
       "    </tr>\n",
       "  </tbody>\n",
       "</table>\n",
       "</div>"
      ],
      "text/plain": [
       "         price\n",
       "5269   1070000\n",
       "6537    135000\n",
       "19120   111111\n",
       "6881     85000\n",
       "8709     80000\n",
       "13405    50614\n",
       "17123    50000\n",
       "2060     50000\n",
       "2572     48500\n",
       "6801     39995"
      ]
     },
     "execution_count": 9,
     "metadata": {},
     "output_type": "execute_result"
    }
   ],
   "source": [
    "rent_num['price'].sort_values(ascending=False).to_frame().head(10)"
   ]
  },
  {
   "cell_type": "code",
   "execution_count": 10,
   "metadata": {},
   "outputs": [
    {
     "data": {
      "text/html": [
       "<div>\n",
       "<style scoped>\n",
       "    .dataframe tbody tr th:only-of-type {\n",
       "        vertical-align: middle;\n",
       "    }\n",
       "\n",
       "    .dataframe tbody tr th {\n",
       "        vertical-align: top;\n",
       "    }\n",
       "\n",
       "    .dataframe thead th {\n",
       "        text-align: right;\n",
       "    }\n",
       "</style>\n",
       "<table border=\"1\" class=\"dataframe\">\n",
       "  <thead>\n",
       "    <tr style=\"text-align: right;\">\n",
       "      <th></th>\n",
       "      <th>bathrooms</th>\n",
       "    </tr>\n",
       "  </thead>\n",
       "  <tbody>\n",
       "    <tr>\n",
       "      <th>0.000</th>\n",
       "      <td>116</td>\n",
       "    </tr>\n",
       "    <tr>\n",
       "      <th>1.000</th>\n",
       "      <td>15973</td>\n",
       "    </tr>\n",
       "    <tr>\n",
       "      <th>1.500</th>\n",
       "      <td>262</td>\n",
       "    </tr>\n",
       "    <tr>\n",
       "      <th>2.000</th>\n",
       "      <td>3099</td>\n",
       "    </tr>\n",
       "    <tr>\n",
       "      <th>2.500</th>\n",
       "      <td>114</td>\n",
       "    </tr>\n",
       "    <tr>\n",
       "      <th>3.000</th>\n",
       "      <td>316</td>\n",
       "    </tr>\n",
       "    <tr>\n",
       "      <th>3.500</th>\n",
       "      <td>29</td>\n",
       "    </tr>\n",
       "    <tr>\n",
       "      <th>4.000</th>\n",
       "      <td>67</td>\n",
       "    </tr>\n",
       "    <tr>\n",
       "      <th>4.500</th>\n",
       "      <td>14</td>\n",
       "    </tr>\n",
       "    <tr>\n",
       "      <th>5.000</th>\n",
       "      <td>8</td>\n",
       "    </tr>\n",
       "    <tr>\n",
       "      <th>5.500</th>\n",
       "      <td>1</td>\n",
       "    </tr>\n",
       "    <tr>\n",
       "      <th>6.000</th>\n",
       "      <td>1</td>\n",
       "    </tr>\n",
       "  </tbody>\n",
       "</table>\n",
       "</div>"
      ],
      "text/plain": [
       "       bathrooms\n",
       "0.000        116\n",
       "1.000      15973\n",
       "1.500        262\n",
       "2.000       3099\n",
       "2.500        114\n",
       "3.000        316\n",
       "3.500         29\n",
       "4.000         67\n",
       "4.500         14\n",
       "5.000          8\n",
       "5.500          1\n",
       "6.000          1"
      ]
     },
     "execution_count": 10,
     "metadata": {},
     "output_type": "execute_result"
    }
   ],
   "source": [
    "rent_num['bathrooms'].value_counts().to_frame().sort_index()"
   ]
  },
  {
   "cell_type": "code",
   "execution_count": 11,
   "metadata": {},
   "outputs": [
    {
     "data": {
      "text/plain": [
       "16102"
      ]
     },
     "execution_count": 11,
     "metadata": {},
     "output_type": "execute_result"
    }
   ],
   "source": [
    "rent_num.bathrooms.idxmax()"
   ]
  },
  {
   "cell_type": "code",
   "execution_count": 12,
   "metadata": {},
   "outputs": [
    {
     "data": {
      "text/plain": [
       "bathrooms       6.000\n",
       "bedrooms        5.000\n",
       "longitude     -73.961\n",
       "latitude       40.760\n",
       "price       28000.000\n",
       "Name: 16102, dtype: float64"
      ]
     },
     "execution_count": 12,
     "metadata": {},
     "output_type": "execute_result"
    }
   ],
   "source": [
    "rent_num.iloc[16102,:]"
   ]
  },
  {
   "cell_type": "code",
   "execution_count": 13,
   "metadata": {},
   "outputs": [
    {
     "data": {
      "text/html": [
       "<div>\n",
       "<style scoped>\n",
       "    .dataframe tbody tr th:only-of-type {\n",
       "        vertical-align: middle;\n",
       "    }\n",
       "\n",
       "    .dataframe tbody tr th {\n",
       "        vertical-align: top;\n",
       "    }\n",
       "\n",
       "    .dataframe thead th {\n",
       "        text-align: right;\n",
       "    }\n",
       "</style>\n",
       "<table border=\"1\" class=\"dataframe\">\n",
       "  <thead>\n",
       "    <tr style=\"text-align: right;\">\n",
       "      <th></th>\n",
       "      <th>bathrooms</th>\n",
       "      <th>bedrooms</th>\n",
       "      <th>longitude</th>\n",
       "      <th>latitude</th>\n",
       "      <th>price</th>\n",
       "    </tr>\n",
       "  </thead>\n",
       "  <tbody>\n",
       "    <tr>\n",
       "      <th>18457</th>\n",
       "      <td>5.500</td>\n",
       "      <td>4</td>\n",
       "      <td>-73.946</td>\n",
       "      <td>40.775</td>\n",
       "      <td>30000</td>\n",
       "    </tr>\n",
       "  </tbody>\n",
       "</table>\n",
       "</div>"
      ],
      "text/plain": [
       "       bathrooms  bedrooms  longitude  latitude  price\n",
       "18457      5.500         4    -73.946    40.775  30000"
      ]
     },
     "execution_count": 13,
     "metadata": {},
     "output_type": "execute_result"
    }
   ],
   "source": [
    "rent_num[rent_num['bathrooms']==5.5]"
   ]
  },
  {
   "cell_type": "code",
   "execution_count": 14,
   "metadata": {},
   "outputs": [
    {
     "data": {
      "text/html": [
       "<div>\n",
       "<style scoped>\n",
       "    .dataframe tbody tr th:only-of-type {\n",
       "        vertical-align: middle;\n",
       "    }\n",
       "\n",
       "    .dataframe tbody tr th {\n",
       "        vertical-align: top;\n",
       "    }\n",
       "\n",
       "    .dataframe thead th {\n",
       "        text-align: right;\n",
       "    }\n",
       "</style>\n",
       "<table border=\"1\" class=\"dataframe\">\n",
       "  <thead>\n",
       "    <tr style=\"text-align: right;\">\n",
       "      <th></th>\n",
       "      <th>bedrooms</th>\n",
       "    </tr>\n",
       "  </thead>\n",
       "  <tbody>\n",
       "    <tr>\n",
       "      <th>0</th>\n",
       "      <td>3804</td>\n",
       "    </tr>\n",
       "    <tr>\n",
       "      <th>1</th>\n",
       "      <td>6390</td>\n",
       "    </tr>\n",
       "    <tr>\n",
       "      <th>2</th>\n",
       "      <td>5963</td>\n",
       "    </tr>\n",
       "    <tr>\n",
       "      <th>3</th>\n",
       "      <td>2928</td>\n",
       "    </tr>\n",
       "    <tr>\n",
       "      <th>4</th>\n",
       "      <td>791</td>\n",
       "    </tr>\n",
       "    <tr>\n",
       "      <th>5</th>\n",
       "      <td>104</td>\n",
       "    </tr>\n",
       "    <tr>\n",
       "      <th>6</th>\n",
       "      <td>19</td>\n",
       "    </tr>\n",
       "    <tr>\n",
       "      <th>7</th>\n",
       "      <td>1</td>\n",
       "    </tr>\n",
       "  </tbody>\n",
       "</table>\n",
       "</div>"
      ],
      "text/plain": [
       "   bedrooms\n",
       "0      3804\n",
       "1      6390\n",
       "2      5963\n",
       "3      2928\n",
       "4       791\n",
       "5       104\n",
       "6        19\n",
       "7         1"
      ]
     },
     "execution_count": 14,
     "metadata": {},
     "output_type": "execute_result"
    }
   ],
   "source": [
    "rent_num['bedrooms'].value_counts().to_frame().sort_index()"
   ]
  },
  {
   "cell_type": "code",
   "execution_count": 15,
   "metadata": {},
   "outputs": [
    {
     "data": {
      "text/plain": [
       "7790"
      ]
     },
     "execution_count": 15,
     "metadata": {},
     "output_type": "execute_result"
    }
   ],
   "source": [
    "rent_num.bedrooms.idxmax()"
   ]
  },
  {
   "cell_type": "code",
   "execution_count": 16,
   "metadata": {},
   "outputs": [
    {
     "data": {
      "text/plain": [
       "bathrooms      3.000\n",
       "bedrooms       7.000\n",
       "longitude    -73.946\n",
       "latitude      40.676\n",
       "price       6923.000\n",
       "Name: 7790, dtype: float64"
      ]
     },
     "execution_count": 16,
     "metadata": {},
     "output_type": "execute_result"
    }
   ],
   "source": [
    "rent_num.iloc[7790,:]"
   ]
  },
  {
   "cell_type": "code",
   "execution_count": 17,
   "metadata": {},
   "outputs": [
    {
     "data": {
      "text/html": [
       "<div>\n",
       "<style scoped>\n",
       "    .dataframe tbody tr th:only-of-type {\n",
       "        vertical-align: middle;\n",
       "    }\n",
       "\n",
       "    .dataframe tbody tr th {\n",
       "        vertical-align: top;\n",
       "    }\n",
       "\n",
       "    .dataframe thead th {\n",
       "        text-align: right;\n",
       "    }\n",
       "</style>\n",
       "<table border=\"1\" class=\"dataframe\">\n",
       "  <thead>\n",
       "    <tr style=\"text-align: right;\">\n",
       "      <th></th>\n",
       "      <th>bathrooms</th>\n",
       "      <th>bedrooms</th>\n",
       "      <th>longitude</th>\n",
       "      <th>latitude</th>\n",
       "      <th>price</th>\n",
       "    </tr>\n",
       "  </thead>\n",
       "  <tbody>\n",
       "    <tr>\n",
       "      <th>370</th>\n",
       "      <td>1.000</td>\n",
       "      <td>2</td>\n",
       "      <td>0.000</td>\n",
       "      <td>0.000</td>\n",
       "      <td>3619</td>\n",
       "    </tr>\n",
       "    <tr>\n",
       "      <th>500</th>\n",
       "      <td>1.000</td>\n",
       "      <td>1</td>\n",
       "      <td>0.000</td>\n",
       "      <td>0.000</td>\n",
       "      <td>3600</td>\n",
       "    </tr>\n",
       "    <tr>\n",
       "      <th>4541</th>\n",
       "      <td>1.000</td>\n",
       "      <td>2</td>\n",
       "      <td>0.000</td>\n",
       "      <td>0.000</td>\n",
       "      <td>3200</td>\n",
       "    </tr>\n",
       "    <tr>\n",
       "      <th>5403</th>\n",
       "      <td>5.000</td>\n",
       "      <td>6</td>\n",
       "      <td>0.000</td>\n",
       "      <td>0.000</td>\n",
       "      <td>9995</td>\n",
       "    </tr>\n",
       "    <tr>\n",
       "      <th>5428</th>\n",
       "      <td>1.000</td>\n",
       "      <td>0</td>\n",
       "      <td>0.000</td>\n",
       "      <td>0.000</td>\n",
       "      <td>1850</td>\n",
       "    </tr>\n",
       "    <tr>\n",
       "      <th>10062</th>\n",
       "      <td>1.000</td>\n",
       "      <td>2</td>\n",
       "      <td>0.000</td>\n",
       "      <td>0.000</td>\n",
       "      <td>2950</td>\n",
       "    </tr>\n",
       "  </tbody>\n",
       "</table>\n",
       "</div>"
      ],
      "text/plain": [
       "       bathrooms  bedrooms  longitude  latitude  price\n",
       "370        1.000         2      0.000     0.000   3619\n",
       "500        1.000         1      0.000     0.000   3600\n",
       "4541       1.000         2      0.000     0.000   3200\n",
       "5403       5.000         6      0.000     0.000   9995\n",
       "5428       1.000         0      0.000     0.000   1850\n",
       "10062      1.000         2      0.000     0.000   2950"
      ]
     },
     "execution_count": 17,
     "metadata": {},
     "output_type": "execute_result"
    }
   ],
   "source": [
    "rent_num[(rent_num['longitude'] == 0.0) & (rent_num['latitude'] == 0.0)]"
   ]
  },
  {
   "cell_type": "markdown",
   "metadata": {},
   "source": [
    "#### Removing all inconsistencies, errors and denoising the data."
   ]
  },
  {
   "cell_type": "code",
   "execution_count": 18,
   "metadata": {},
   "outputs": [],
   "source": [
    "rent_clean = rent_num[(rent_num['price'] > 1000) & (rent_num['price'] < 10000)]"
   ]
  },
  {
   "cell_type": "code",
   "execution_count": 19,
   "metadata": {},
   "outputs": [],
   "source": [
    "rent_clean = rent_clean[(rent_clean['longitude'] !=0) | (rent_clean['latitude']!=0)]"
   ]
  },
  {
   "cell_type": "code",
   "execution_count": 20,
   "metadata": {},
   "outputs": [],
   "source": [
    "rent_clean = rent_clean[(rent_clean['latitude']>40.55) &\n",
    "                        (rent_clean['latitude']<40.94) &\n",
    "                        (rent_clean['longitude']>-74.1) &\n",
    "                        (rent_clean['longitude']<-73.67)]"
   ]
  },
  {
   "cell_type": "markdown",
   "metadata": {},
   "source": [
    "### Part 3 - Create and evaluate a final model\n",
    "\n",
    "Create the final model using the deonised data, compare the original models and the new model using oob **score** and the **R-squared**.\n",
    "\n",
    "#### Code (15 marks)"
   ]
  },
  {
   "cell_type": "code",
   "execution_count": 21,
   "metadata": {},
   "outputs": [],
   "source": [
    "X_clean = rent_clean.drop('price', axis=1)\n",
    "y_clean = rent_clean['price']"
   ]
  },
  {
   "cell_type": "code",
   "execution_count": 22,
   "metadata": {},
   "outputs": [],
   "source": [
    "train_r2 = []\n",
    "val_r2 = []\n",
    "oob_scores = []\n",
    "\n",
    "for i in range(10):\n",
    "    X_clean_train, X_clean_val, y_clean_train, y_clean_val = train_test_split(X_clean, y_clean, test_size=0.2,random_state=123)\n",
    "    rf_clean = RandomForestRegressor(n_estimators=100, n_jobs=-1, oob_score=True) \n",
    "    rf_clean.fit(X_clean_train, y_clean_train)\n",
    "    train_preds = rf_clean.predict(X_clean_train)\n",
    "    val_preds = rf_clean.predict(X_clean_val)\n",
    "    train_r2.append(round(r2_score(y_clean_train, train_preds), 4))\n",
    "    val_r2.append(round(r2_score(y_clean_val, val_preds), 4))\n",
    "    oob_scores.append(round(rf_clean.oob_score_, 4))"
   ]
  },
  {
   "cell_type": "code",
   "execution_count": 23,
   "metadata": {},
   "outputs": [
    {
     "name": "stdout",
     "output_type": "stream",
     "text": [
      "After cleaning scores: \n",
      "\n",
      "Train r2 scores: \n",
      " [0.9495, 0.949, 0.9489, 0.9492, 0.9488, 0.9493, 0.949, 0.949, 0.9494, 0.9491]\n",
      "\n",
      "Validation r2 scores: \n",
      " [0.8239, 0.8245, 0.8253, 0.8238, 0.8231, 0.8231, 0.8233, 0.8238, 0.823, 0.8265]\n",
      "\n",
      "Out-of-bag scores: \n",
      " [0.8133, 0.8114, 0.8125, 0.8112, 0.8111, 0.8121, 0.8121, 0.8122, 0.8126, 0.812]\n"
     ]
    }
   ],
   "source": [
    "print(\"After cleaning scores: \\n\")\n",
    "print(\"Train r2 scores: \\n\", train_r2)\n",
    "print(\"\")\n",
    "print(\"Validation r2 scores: \\n\", val_r2)\n",
    "print(\"\")\n",
    "print(\"Out-of-bag scores: \\n\", oob_scores)"
   ]
  },
  {
   "cell_type": "code",
   "execution_count": 24,
   "metadata": {},
   "outputs": [
    {
     "name": "stdout",
     "output_type": "stream",
     "text": [
      "Mean train r2 score:  0.9491\n",
      "Mean validation r2 score:  0.824\n",
      "Mean oob score:  0.812\n"
     ]
    }
   ],
   "source": [
    "print(\"Mean train r2 score: \", round(np.mean(train_r2), 4))\n",
    "print(\"Mean validation r2 score: \", round(np.mean(val_r2), 4))\n",
    "print(\"Mean oob score: \", round(np.mean(oob_scores),4))"
   ]
  },
  {
   "cell_type": "markdown",
   "metadata": {},
   "source": [
    "#### Comparison to baseline model\n",
    "\n",
    "#### Output means' for baseline model\n",
    "\n",
    "Mean train r2:  0.8368599999999999 <br>\n",
    "Mean validation r2:  -0.7712100000000002 <br>\n",
    "Mean oob score:  -0.06120705551023804 <br>\n",
    "\n",
    "#### Output means' for denoised model\n",
    "\n",
    "Mean train r2 score:  0.9478 <br>\n",
    "Mean validation r2 score:  0.8163 <br>\n",
    "Mean oob score:  0.8136 <br>\n",
    "\n",
    "Looking at the above results of mean R2 scores for testing and training data and OOB scores, we can conclude that the model trained on the data that is free from errors, inconsistencies and noise is performed far better than the one trained to the original data with noise and errors."
   ]
  },
  {
   "cell_type": "markdown",
   "metadata": {},
   "source": [
    "#### Explanation (5 marks)\n",
    "\n",
    "Please provide an explanation and justification for the code submitted in **Part 3** in the context of the overall objective. \n",
    "\n",
    "Step 1: Splitting the cleaned dataset into training and testing. The random_state hyperparameter is used to keep the split similar each time and so that it does not affect r2 and oob scores.\n",
    "\n",
    "Step 2: Creating empty lists to append values from the model's r2 scores for testing and training data and the OOB Scores.\n",
    "\n",
    "Step 3: Printing the r2 scores for testing and training data and the OOB Scores.\n",
    "\n",
    "Step 4: Printing the mean r2 scores for testing and training data and the OOB Score."
   ]
  },
  {
   "cell_type": "markdown",
   "metadata": {},
   "source": [
    "### Part 4 - Document the problems (35 marks)\n",
    "\n",
    "In this part, please use the table below to document your understanding of all the data issues you discovered. Note that **no code** should be included, as that should be covered in **Part 2**. Also, note that even if one line of code fixed a few problems, you should list each problem separately in the table below, so be sure you have investigated the data properly. For example, if the list `[-6, 5, 0, 50]` represents heights of adults, the -6, 0, and 50 would represent three data issues to be included in the table below, even though one line of code may be able to address all of them. \n",
    "\n",
    "| Data issue discovered | Why is this a problem? | How did you fix it? | Why is this fix appropriate? |\n",
    "| :- | :- | :- | :- | \n",
    "|  Unexpected Rental Price    | Rental Price of 1070000,135000,111111 and so on.    | Fixing rent price to a range of 1000 to 10000  | The prices for rent were unexpected, were acting as outliers and thus needed to be removed.     |\n",
    "|\n",
    "|  Only 2 houses with 5.5 and 6 bathrooms.  | These were one of the high priced entries.    | This problem was resolved by setting constraint on price.  | This fix was important as it was creating rent price outliers.   |\n",
    "|\n",
    "|  Minimum value of latitude and longitude as '0'.  | The area that we are interested in does not has range of neither 0 latitude nor longitude.    | Removing all the values that had '0' values.  | As the question demands only New York region apaartment rental prices this constraint is necessary.   |\n",
    "|\n",
    "|  Value of latitude and longitude other than New York region.  | The area of interest according to objective is New York only.    | Setting the constraints to New York region only.  | As the question demands only New York region apartment rental prices this constraint is necessary.   |"
   ]
  }
 ],
 "metadata": {
  "kernelspec": {
   "display_name": "Python 3 (ipykernel)",
   "language": "python",
   "name": "python3"
  },
  "language_info": {
   "codemirror_mode": {
    "name": "ipython",
    "version": 3
   },
   "file_extension": ".py",
   "mimetype": "text/x-python",
   "name": "python",
   "nbconvert_exporter": "python",
   "pygments_lexer": "ipython3",
   "version": "3.8.11"
  }
 },
 "nbformat": 4,
 "nbformat_minor": 4
}
